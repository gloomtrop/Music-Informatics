{
  "cells": [
    {
      "cell_type": "markdown",
      "metadata": {
        "id": "KWNskbM3X3Sq"
      },
      "source": [
        "#Chinese Instrument Classification using MFCC extraction\n",
        "##### Author: Axel Rooth\n",
        "##### Course: Music Informatics DT2470\n",
        "\n",
        "This project is based on the paper with the accompanied dataset which the author provides. https://arxiv.org/pdf/2108.08470v2.pdf. The data contains 11 chinese instruments with 5 audio files each. The project's aim was to achieve a higher performance than existing methods. This was achieved using the Random Forest algorithm. "
      ]
    },
    {
      "cell_type": "markdown",
      "metadata": {
        "id": "Jwo81mky_CX6"
      },
      "source": [
        "## Preparation"
      ]
    },
    {
      "cell_type": "code",
      "execution_count": null,
      "metadata": {
        "id": "o-XcLmZMHgNt"
      },
      "outputs": [],
      "source": [
        "!pip install pydub"
      ]
    },
    {
      "cell_type": "code",
      "execution_count": null,
      "metadata": {
        "id": "TrXx-yaJQqbX"
      },
      "outputs": [],
      "source": [
        "!pip install gdown"
      ]
    },
    {
      "cell_type": "code",
      "execution_count": null,
      "metadata": {
        "id": "_IPtuxijQs4_"
      },
      "outputs": [],
      "source": [
        "!gdown https://drive.google.com/uc?id=1rfbXpkYEUGw5h_CZJtC7eayYemeFMzij"
      ]
    },
    {
      "cell_type": "code",
      "execution_count": null,
      "metadata": {
        "id": "MougH39d2LQV"
      },
      "outputs": [],
      "source": [
        "!sudo apt-get install p7zip-full"
      ]
    },
    {
      "cell_type": "code",
      "execution_count": null,
      "metadata": {
        "id": "2eRV0-3P2RE6"
      },
      "outputs": [],
      "source": [
        "!7z x \"ChMusic.7z\""
      ]
    },
    {
      "cell_type": "markdown",
      "metadata": {
        "id": "kIDdm0P2_IjQ"
      },
      "source": [
        "## Libraries"
      ]
    },
    {
      "cell_type": "code",
      "execution_count": null,
      "metadata": {
        "id": "iKQGIa354rdi"
      },
      "outputs": [],
      "source": [
        "from sklearn.neighbors import KNeighborsClassifier\n",
        "from sklearn.ensemble import RandomForestClassifier\n",
        "from collections import Counter\n",
        "import numpy as np \n",
        "from pydub import AudioSegment\n",
        "import matplotlib.pyplot as plt\n",
        "from sklearn.metrics import confusion_matrix, ConfusionMatrixDisplay\n",
        "from sklearn.metrics import f1_score, recall_score, precision_score\n",
        "from mlxtend.plotting import plot_confusion_matrix\n",
        "import soundfile as sf\n",
        "import librosa\n",
        "import librosa.display\n",
        "import scipy\n",
        "import os\n",
        "import pickle\n",
        "import pdb\n",
        "import tensorflow as tf\n",
        "import scipy.io \n",
        "import scipy.signal\n",
        "from skimage.transform import resize\n",
        "import cv2\n",
        "import pickle as pkl\n",
        "import torch\n",
        "import torch.nn as nn\n",
        "import torch.nn.functional as F\n",
        "from torch.utils.data import Dataset\n",
        "from torch.utils.data import DataLoader\n",
        "from tqdm import trange\n",
        "from sklearn.metrics import accuracy_score\n",
        "from IPython.display import Audio, display, Image\n"
      ]
    },
    {
      "cell_type": "markdown",
      "source": [
        "## Theory"
      ],
      "metadata": {
        "id": "hveCFnz4sQGA"
      }
    },
    {
      "cell_type": "markdown",
      "source": [
        "### MFCC extraction of audio"
      ],
      "metadata": {
        "id": "8PSqlFdWwYXO"
      }
    },
    {
      "cell_type": "markdown",
      "source": [
        "The steps to extract the MFCC are:\n",
        "\n",
        "1. Break the audio signal into overlapping frames\n",
        "2. Compute the Short-Time Fourier Transform on the frames\n",
        "\n",
        "$STFT\\{x[n]\\}(m,\\omega)\\equiv X(m,\\omega) = \\sum_{n=-\\infty}^{\\infty} x[n]w[n-m]e^{-i \\omega n}$\n",
        "\n",
        "3. Apply the mel filterbank to the power spectra, sum the energy in each filter. Where the frequencies are in th mel-scale. $m = 2595 \\log_{10}\\left(1 + \\frac{f}{700}\\right)$\n",
        "4. Take the logarithm of all filterbank energies.\n",
        "5. Take the **Discrete Cosine Transform (DCT)** of the log filterbank energies. In this case DCT-11:\n",
        "\n",
        "$X_k =\n",
        " \\sum_{n=0}^{N-1} x_n \\cos \\left[\\, \\tfrac{\\,\\pi\\,}{N} \\left( n + \\frac{1}{2} \\right) k \\, \\right]\n",
        " \\qquad \\text{ for } ~ k = 0,\\ \\dots\\ N-1 ~.$"
      ],
      "metadata": {
        "id": "9pudw-84xbCW"
      }
    },
    {
      "cell_type": "markdown",
      "source": [
        "### Result metric"
      ],
      "metadata": {
        "id": "eCIU4VVCwbQv"
      }
    },
    {
      "cell_type": "markdown",
      "source": [
        "$\\text{Accuracy}=\\frac{\\text{correct classifications}}{\\text{all classifications}}$\n",
        "\n",
        "$\\text{Precision}=\\frac{|\\{\\text{relevant documents}\\}\\cap\\{\\text{retrieved documents}\\}|}{|\\{\\text{retrieved documents}\\}|}$\n",
        "\n",
        "$\\text{Recall}=\\frac{|\\{\\text{relevant documents}\\}\\cap\\{\\text{retrieved documents}\\}|}{|\\{\\text{relevant documents}\\}|}$\n",
        "\n",
        "$F_1 = \\frac{2}{\\mathrm{recall}^{-1} + \\mathrm{precision}^{-1}} = 2 \\frac{\\mathrm{precision} \\cdot \\mathrm{recall}}{\\mathrm{precision} + \\mathrm{recall}} = \\frac{2\\mathrm{tp}}{2\\mathrm{tp} + \\mathrm{fp} + \\mathrm{fn}} $"
      ],
      "metadata": {
        "id": "2zudu6Ud1YL-"
      }
    },
    {
      "cell_type": "markdown",
      "metadata": {
        "id": "81iYf_ez_M5U"
      },
      "source": [
        "## Data Preperation and Collection"
      ]
    },
    {
      "cell_type": "code",
      "execution_count": null,
      "metadata": {
        "id": "79eHMhT9HcZH"
      },
      "outputs": [],
      "source": [
        "def data_retriever(feature_extractor, nmfcc, music_path = \"ChMusic/Musics\"):\n",
        "  target_clip_length = 5 \n",
        "  filter=[\".wav\"]\n",
        "  music_list = []\n",
        "  traindata = []\n",
        "  testdata = []\n",
        "\n",
        "  for maindir, subdir, file_name_list in os.walk(music_path):\n",
        "    for filename in file_name_list:\n",
        "        apath = os.path.join(maindir, filename)\n",
        "        ext = os.path.splitext(apath)[1]  \n",
        "        if ext in filter:\n",
        "            music_list.append(apath)\n",
        "            music = AudioSegment.from_wav(apath)\n",
        "            samplerate = music.frame_rate\n",
        "            clip_number = int(music.duration_seconds//target_clip_length)\n",
        "            for k in range(clip_number):\n",
        "                music[k*target_clip_length*1000:(k+1)*target_clip_length*1000].export(\"./tem_clip.wav\", format=\"wav\")\n",
        "                x, sr = librosa.load(\"./tem_clip.wav\")\n",
        "\n",
        "                if feature_extractor == librosa.feature.mfcc:\n",
        "                  feature_tem = feature_extractor(x, sr, n_mfcc=nmfcc, dct_type=2)\n",
        "                elif feature_extractor == librosa.stft:\n",
        "          \n",
        "                  X_libs = librosa.stft(x, n_fft= int(25*sr/1000), hop_length=int(10*sr/1000))\n",
        "                  X_temp = np.zeros((X_libs.shape))\n",
        "                  for j in range(len(X_libs)):\n",
        "                    X_temp[j] = scipy.fftpack.dct(np.log(np.abs(X_libs[j])**2/X_libs.shape[0]))\n",
        "                  feature_tem = X_temp\n",
        "                else:\n",
        "                  feature_tem = feature_extractor(x, sr, n_chroma=20, bins_per_octave=60)\n",
        "\n",
        "                if apath[-5] == '5':\n",
        "                    strlist = apath.split('/')\n",
        "\n",
        "                    testdata.append([feature_tem,strlist[-1][:strlist[-1].find(\".\")]])\n",
        "                else:\n",
        "                    strlist = apath.split('/')\n",
        "\n",
        "                    traindata.append([feature_tem,strlist[-1][:strlist[-1].find(\".\")]])\n",
        "\n",
        "  return traindata, testdata"
      ]
    },
    {
      "cell_type": "code",
      "execution_count": null,
      "metadata": {
        "id": "-c2x9GzS_MvM"
      },
      "outputs": [],
      "source": [
        "class MusicDataset(torch.utils.data.Dataset):\n",
        "  def __init__(self, dataX, dataY):\n",
        "\n",
        "    device = torch.device(\"cuda:0\" if torch.cuda.is_available() else \"cpu\")\n",
        "    self.dataX = torch.tensor(dataX, dtype = torch.float32).float().to(device)\n",
        "    self.dataY = torch.from_numpy(dataY).to(device)\n",
        "\n",
        "  def __len__(self):\n",
        "    return len(self.dataY)\n",
        "\n",
        "  def __getitem__(self, idx):\n",
        "    return self.dataX[idx], self.dataY[idx]"
      ]
    },
    {
      "cell_type": "code",
      "execution_count": null,
      "metadata": {
        "id": "W7kSFDA94P_w"
      },
      "outputs": [],
      "source": [
        "def dataloader(traindata, testdata):\n",
        "  train_X = []\n",
        "  train_Y = []\n",
        "  test_X = []\n",
        "  test_Y = []\n",
        "  for i in traindata:\n",
        "      train_X.append(i[0])\n",
        "      train_Y.append(int(i[1])-1)\n",
        "  for i in testdata:\n",
        "      test_X.append(i[0])\n",
        "      test_Y.append(int(i[1])-1)\n",
        "  train_X = np.array(train_X, dtype = \"float64\")\n",
        "  train_X = np.expand_dims(train_X, axis=3)\n",
        "  train_Y = np.array(train_Y)\n",
        "  test_X = np.array(test_X, dtype = \"float64\")\n",
        "  test_X = np.expand_dims(test_X, axis=3)\n",
        "  test_Y = np.array(test_Y)\n",
        "\n",
        "  train_dataset = MusicDataset(train_X, train_Y)\n",
        "  test_dataset = MusicDataset(test_X, test_Y)\n",
        "\n",
        "  train_dataloader = DataLoader(train_dataset, batch_size = 32, shuffle=True)\n",
        "  test_dataloader = DataLoader(test_dataset, batch_size = 32)\n",
        "\n",
        "  return train_dataloader, test_dataloader\n"
      ]
    },
    {
      "cell_type": "code",
      "execution_count": null,
      "metadata": {
        "id": "GRCMdDn4H6zs"
      },
      "outputs": [],
      "source": [
        "traindata_mfcc_20, testdata_mfcc_20 = data_retriever(feature_extractor = librosa.feature.mfcc, nmfcc=20)\n",
        "traindata_mfcc_30, testdata_mfcc_30 = data_retriever(feature_extractor = librosa.feature.mfcc, nmfcc=30)"
      ]
    },
    {
      "cell_type": "code",
      "execution_count": null,
      "metadata": {
        "id": "vmXB4jzi820z"
      },
      "outputs": [],
      "source": [
        "train_dataloader_mfcc, test_dataloader_mfcc = dataloader(traindata_mfcc_20, testdata_mfcc_20)"
      ]
    },
    {
      "cell_type": "markdown",
      "metadata": {
        "id": "ECIDqsjGa6-c"
      },
      "source": [
        "## Data Presentation"
      ]
    },
    {
      "cell_type": "markdown",
      "source": [
        "### Audio of 1.1.wav file playing the instrument Erhu"
      ],
      "metadata": {
        "id": "qEB_TYBQwLw8"
      }
    },
    {
      "cell_type": "code",
      "execution_count": null,
      "metadata": {
        "id": "94lVZ6Al3RxY"
      },
      "outputs": [],
      "source": [
        "sound_file = \"ChMusic/Musics/1.1.wav\"\n",
        "display(Audio(sound_file))"
      ]
    },
    {
      "cell_type": "code",
      "execution_count": null,
      "metadata": {
        "id": "IY7442xrYP2_"
      },
      "outputs": [],
      "source": [
        "instruments = {1: \"Erhu\",\n",
        " 2: \"Pipa\",\n",
        " 3: \"Sanxian\",\n",
        " 4: \"Dizi\",\n",
        " 5: \"Suona\",\n",
        " 6: \"Zhuiqin\",\n",
        " 7: \"Zhongruan\",\n",
        " 8: \"Liuqin\",\n",
        " 9: \"Guzheng\",\n",
        " 10: \"Yangqin\",\n",
        " 11: \"Sheng\"}\n",
        "\n",
        "for k, v in instruments.items():\n",
        "  print(f\"{k}. {v}\")\n",
        "  display(Image(filename=f'ChMusic/InstrumentsDescription/{k}.jpg',width=80))\n"
      ]
    },
    {
      "cell_type": "code",
      "execution_count": null,
      "metadata": {
        "id": "eFUj4d5HjdMm"
      },
      "outputs": [],
      "source": [
        "display(Image(filename=f'ChMusic/InstrumentsDescription/MusicsList.png',width=500))"
      ]
    },
    {
      "cell_type": "markdown",
      "source": [
        "### MFCC image of one part of 1.1.wav audio file with two different number of bands, 20 bands and 20 bands"
      ],
      "metadata": {
        "id": "pw4rC8xEv6Ao"
      }
    },
    {
      "cell_type": "code",
      "source": [
        "fig, ax = plt.subplots(nrows=1, sharex=True)\n",
        "img1 = librosa.display.specshow(traindata_mfcc_20[0][0], x_axis='time')\n",
        "fig.colorbar(img1, ax=ax)\n",
        "ax.set(title='MFCC 20 bands')\n",
        "fig.show()"
      ],
      "metadata": {
        "colab": {
          "base_uri": "https://localhost:8080/",
          "height": 295
        },
        "id": "ble18SHkuCSV",
        "outputId": "392a2e6b-6d0c-4604-cac3-ca9a9515f0e4"
      },
      "execution_count": null,
      "outputs": [
        {
          "output_type": "display_data",
          "data": {
            "text/plain": [
              "<Figure size 432x288 with 2 Axes>"
            ],
            "image/png": "[encoded data removed]"
          },
          "metadata": {
            "needs_background": "light"
          }
        }
      ]
    },
    {
      "cell_type": "code",
      "source": [
        "fig, ax = plt.subplots(nrows=1, sharex=True)\n",
        "img1 = librosa.display.specshow(traindata_mfcc_30[0][0], x_axis='time')\n",
        "fig.colorbar(img1, ax=ax)\n",
        "ax.set(title='MFCC 30 bands')\n",
        "fig.show()"
      ],
      "metadata": {
        "colab": {
          "base_uri": "https://localhost:8080/",
          "height": 295
        },
        "id": "2YRSEey0vt8L",
        "outputId": "986f983d-4c52-46e6-c719-6dca56c80e8d"
      },
      "execution_count": null,
      "outputs": [
        {
          "output_type": "display_data",
          "data": {
            "text/plain": [
              "<Figure size 432x288 with 2 Axes>"
            ],
            "image/png": "[encoded data removed]"
          },
          "metadata": {
            "needs_background": "light"
          }
        }
      ]
    },
    {
      "cell_type": "markdown",
      "metadata": {
        "id": "V5uowNzmajml"
      },
      "source": [
        "## ML models and classification"
      ]
    },
    {
      "cell_type": "code",
      "execution_count": null,
      "metadata": {
        "id": "hyGJ7Q7biVTs"
      },
      "outputs": [],
      "source": [
        "def classifier(traindata, testdata, model):\n",
        "  X = []\n",
        "  Y = []\n",
        "  for i in traindata:\n",
        "    for j in range(len(i[0][0,:])):\n",
        "      X.append(i[0][:,j])\n",
        "      Y.append(int(i[1]))\n",
        "  model.fit(np.asarray(X), np.asarray(Y))\n",
        "\n",
        "  # test model\n",
        "  correct = 0\n",
        "  all_clips = 0\n",
        "  predict = []\n",
        "  ground = []\n",
        "  for i in testdata:\n",
        "      X_test = []\n",
        "      all_clips += 1\n",
        "      for j in range(len(i[0][0,:])):\n",
        "          X_test.append(i[0][:,j])\n",
        "      clip_result = model.predict(np.asarray(X_test))\n",
        "      c = Counter(clip_result)\n",
        "      value, count = c.most_common()[0]\n",
        "      predict.append(value)\n",
        "      ground.append(int(i[1]))\n",
        "      if value == int(i[1]):\n",
        "          correct += 1\n",
        "  accuracy = correct/all_clips\n",
        "  return accuracy, model, ground, predict"
      ]
    },
    {
      "cell_type": "markdown",
      "metadata": {
        "id": "tKbMTb_JGC9P"
      },
      "source": [
        "###KNN"
      ]
    },
    {
      "cell_type": "code",
      "execution_count": null,
      "metadata": {
        "id": "UYqt-aG13sq5"
      },
      "outputs": [],
      "source": [
        "def knn_training(traindata, testdata, type_of_data):\n",
        "  # KNN \n",
        "  KNN_model = KNeighborsClassifier(n_neighbors=15)\n",
        "\n",
        "  accuracy, KNN_model, ground, predict = classifier(traindata, testdata, KNN_model)\n",
        "  print(\"Acc\", accuracy)\n",
        "  print(\"F1\", f1_score(ground, predict, average = \"macro\"))\n",
        "  print(\"Recall\", recall_score(ground, predict, average = \"macro\"))\n",
        "  print(\"Precision\", precision_score(ground, predict, average = \"macro\"))\n",
        "\n",
        "  cm  = confusion_matrix(ground, predict, labels= KNN_model.classes_)\n",
        "  fig, ax = plot_confusion_matrix(conf_mat=cm, figsize=(6, 6), cmap=plt.cm.Greens)\n",
        "  plt.xlabel('Predictions', fontsize=16)\n",
        "  plt.ylabel('Actuals', fontsize=16)\n",
        "  #plt.title('Confusion Matrix', fontsize=18)\n",
        "  plt.imshow(cm)\n",
        "  plt.savefig(f'KNN_{type_of_data}_ConfusionMatrix.pdf')\n"
      ]
    },
    {
      "cell_type": "code",
      "execution_count": null,
      "metadata": {
        "colab": {
          "base_uri": "https://localhost:8080/",
          "height": 464
        },
        "id": "2GZP4O5j_d22",
        "outputId": "ae9df521-4b83-4009-c788-5ddd82687315"
      },
      "outputs": [
        {
          "name": "stdout",
          "output_type": "stream",
          "text": [
            "Acc 0.9473684210526315\n",
            "F1 0.9456193267022145\n",
            "Recall 0.9518814518814519\n",
            "Precision 0.9466032363358565\n"
          ]
        },
        {
          "data": {
            "image/png": "[encoded data removed]",
            "text/plain": [
              "<Figure size 432x432 with 1 Axes>"
            ]
          },
          "metadata": {},
          "output_type": "display_data"
        }
      ],
      "source": [
        "knn_training(traindata_mfcc_20, testdata_mfcc_20, \"mfcc\")"
      ]
    },
    {
      "cell_type": "markdown",
      "metadata": {
        "id": "zBgWlIjKGFkv"
      },
      "source": [
        "###CNN"
      ]
    },
    {
      "cell_type": "code",
      "execution_count": null,
      "metadata": {
        "id": "Mp_yRNxJwq6A"
      },
      "outputs": [],
      "source": [
        "class CNNmodel(nn.Module):\n",
        "  def __init__(self):\n",
        "    super(CNNmodel, self).__init__()\n",
        "\n",
        "    self.conv1 = nn.Conv1d(20, 32, kernel_size=3, padding = \"same\")\n",
        "    self.conv2 = nn.Conv1d(32, 64, kernel_size=3, padding = \"same\")\n",
        "    self.conv3 = nn.Conv1d(64, 128, kernel_size=3, padding = \"same\")\n",
        "    self.relu = nn.ReLU()\n",
        "    self.maxpool = nn.MaxPool1d(2,stride=2)\n",
        "    \n",
        "\n",
        "    self.layer_output = nn.Sequential(\n",
        "        nn.Linear(3456 ,128),\n",
        "        nn.ReLU(),\n",
        "        nn.Linear(128, 11) \n",
        "    )\n",
        "\n",
        "  def forward(self,input):\n",
        "    batch_size = input.size()[0]\n",
        "    input = input.squeeze()\n",
        "    x = self.conv1(input)\n",
        "    x = self.relu(x)\n",
        "    x = self.maxpool(x)\n",
        "    x = self.conv2(x)\n",
        "    x = self.relu(x)\n",
        "    x = self.maxpool(x)\n",
        "    x = self.conv3(x)\n",
        "    x = self.relu(x)\n",
        "    x = self.maxpool(x)\n",
        "\n",
        "    x = x.view(batch_size, -1)\n",
        "    output = self.layer_output(x)\n",
        "    return output"
      ]
    },
    {
      "cell_type": "code",
      "execution_count": null,
      "metadata": {
        "id": "aYYv4hD89h97"
      },
      "outputs": [],
      "source": [
        "def neural_training(model,model_name ,train_dataloader, test_dataloader,epochs = 15 ):  \n",
        "  device = torch.device(\"cuda:0\" if torch.cuda.is_available() else \"cpu\")\n",
        "  criterion = nn.CrossEntropyLoss()\n",
        "  model.to(device)\n",
        "  optimizer = torch.optim.Adam(model.parameters(), lr = 0.001)\n",
        "\n",
        "  for epoch in trange(epochs):\n",
        "    running_loss = 0.0\n",
        "    predictions_l = list(); labels_l = list()\n",
        "    for (inputs, labels) in train_dataloader:\n",
        "      optimizer.zero_grad()\n",
        "      outputs = model(inputs)\n",
        "      loss = criterion(outputs, labels)\n",
        "\n",
        "      loss.backward()\n",
        "      optimizer.step()\n",
        "      running_loss += loss.item()\n",
        "      \n",
        "      predictions = torch.argmax(F.softmax(outputs, dim = -1), dim = -1)\n",
        "      predictions_l.extend(predictions.cpu())\n",
        "      labels_l.extend(labels.cpu())\n",
        "    acc = accuracy_score(labels_l, predictions_l)\n",
        "    print(f\" Loss: {running_loss} Acc: {acc}\")\n",
        "\n",
        "    \n",
        "  model.eval()\n",
        "  test_predictions_l = list(); test_labels_l = list()\n",
        "  with torch.no_grad():\n",
        "    for batch_idx, (test_inputs, test_labels) in enumerate(test_dataloader):\n",
        "      dev_outputs = model(test_inputs)\n",
        "      test_predictions = torch.argmax(F.softmax(dev_outputs, dim = -1), dim = -1)\n",
        "      test_predictions_l.extend(test_predictions.cpu())\n",
        "      test_labels_l.extend(test_labels.cpu())\n",
        "\n",
        "    acc = accuracy_score(test_labels_l, test_predictions_l)\n",
        "    print(f\" Test acc: {acc}\")\n",
        "  \n",
        "  print(\"F1\", f1_score(test_labels_l, test_predictions_l, average = \"macro\"))\n",
        "  print(\"Recall\", recall_score(test_labels_l, test_predictions_l, average = \"macro\"))\n",
        "  print(\"Precision\", precision_score(test_labels_l, test_predictions_l, average = \"macro\"))\n",
        "  cm  = confusion_matrix(test_labels_l, test_predictions_l, labels= list(range(1,11)))\n",
        "  fig, ax = plot_confusion_matrix(conf_mat=cm, figsize=(6, 6), cmap=plt.cm.Greens)\n",
        "  plt.xlabel('Predictions', fontsize=16)\n",
        "  plt.ylabel('Actuals', fontsize=16)\n",
        "  #plt.title('Confusion Matrix', fontsize=18)\n",
        "  plt.imshow(cm)\n",
        "  plt.savefig(f'{model_name}_ConfusionMatrix.pdf')\n",
        "  torch.save(model.state_dict(), f\"{model_name}.pt\")\n",
        "\n",
        "\n"
      ]
    },
    {
      "cell_type": "code",
      "execution_count": null,
      "metadata": {
        "colab": {
          "base_uri": "https://localhost:8080/",
          "height": 929
        },
        "id": "T2AhTKikdqrH",
        "outputId": "9c083a79-e8c4-4cd8-c05c-6017881e9eba"
      },
      "outputs": [
        {
          "name": "stderr",
          "output_type": "stream",
          "text": [
            "  4%|▍         | 1/25 [00:00<00:21,  1.10it/s]"
          ]
        },
        {
          "name": "stdout",
          "output_type": "stream",
          "text": [
            " Loss: 50.37475103139877 Acc: 0.424390243902439\n"
          ]
        },
        {
          "name": "stderr",
          "output_type": "stream",
          "text": [
            "\r  8%|▊         | 2/25 [00:01<00:18,  1.27it/s]"
          ]
        },
        {
          "name": "stdout",
          "output_type": "stream",
          "text": [
            " Loss: 12.75295677781105 Acc: 0.8341463414634146\n"
          ]
        },
        {
          "name": "stderr",
          "output_type": "stream",
          "text": [
            "\r 12%|█▏        | 3/25 [00:02<00:16,  1.35it/s]"
          ]
        },
        {
          "name": "stdout",
          "output_type": "stream",
          "text": [
            " Loss: 6.681726861745119 Acc: 0.9182926829268293\n"
          ]
        },
        {
          "name": "stderr",
          "output_type": "stream",
          "text": [
            "\r 16%|█▌        | 4/25 [00:02<00:15,  1.39it/s]"
          ]
        },
        {
          "name": "stdout",
          "output_type": "stream",
          "text": [
            " Loss: 3.4344998616725206 Acc: 0.9646341463414634\n"
          ]
        },
        {
          "name": "stderr",
          "output_type": "stream",
          "text": [
            "\r 20%|██        | 5/25 [00:03<00:14,  1.40it/s]"
          ]
        },
        {
          "name": "stdout",
          "output_type": "stream",
          "text": [
            " Loss: 2.125105016864836 Acc: 0.975609756097561\n"
          ]
        },
        {
          "name": "stderr",
          "output_type": "stream",
          "text": [
            "\r 24%|██▍       | 6/25 [00:04<00:13,  1.43it/s]"
          ]
        },
        {
          "name": "stdout",
          "output_type": "stream",
          "text": [
            " Loss: 0.5855235713534057 Acc: 0.9939024390243902\n"
          ]
        },
        {
          "name": "stderr",
          "output_type": "stream",
          "text": [
            "\r 28%|██▊       | 7/25 [00:05<00:12,  1.43it/s]"
          ]
        },
        {
          "name": "stdout",
          "output_type": "stream",
          "text": [
            " Loss: 0.20241849380545318 Acc: 1.0\n"
          ]
        },
        {
          "name": "stderr",
          "output_type": "stream",
          "text": [
            "\r 32%|███▏      | 8/25 [00:05<00:11,  1.44it/s]"
          ]
        },
        {
          "name": "stdout",
          "output_type": "stream",
          "text": [
            " Loss: 0.06731245253467932 Acc: 1.0\n"
          ]
        },
        {
          "name": "stderr",
          "output_type": "stream",
          "text": [
            "\r 36%|███▌      | 9/25 [00:06<00:11,  1.45it/s]"
          ]
        },
        {
          "name": "stdout",
          "output_type": "stream",
          "text": [
            " Loss: 0.028504535410320386 Acc: 1.0\n"
          ]
        },
        {
          "name": "stderr",
          "output_type": "stream",
          "text": [
            "\r 40%|████      | 10/25 [00:07<00:10,  1.45it/s]"
          ]
        },
        {
          "name": "stdout",
          "output_type": "stream",
          "text": [
            " Loss: 0.019377037009689957 Acc: 1.0\n"
          ]
        },
        {
          "name": "stderr",
          "output_type": "stream",
          "text": [
            "\r 44%|████▍     | 11/25 [00:07<00:09,  1.44it/s]"
          ]
        },
        {
          "name": "stdout",
          "output_type": "stream",
          "text": [
            " Loss: 0.014746224391274154 Acc: 1.0\n"
          ]
        },
        {
          "name": "stderr",
          "output_type": "stream",
          "text": [
            "\r 48%|████▊     | 12/25 [00:08<00:08,  1.45it/s]"
          ]
        },
        {
          "name": "stdout",
          "output_type": "stream",
          "text": [
            " Loss: 0.011796978680649772 Acc: 1.0\n"
          ]
        },
        {
          "name": "stderr",
          "output_type": "stream",
          "text": [
            "\r 52%|█████▏    | 13/25 [00:09<00:08,  1.45it/s]"
          ]
        },
        {
          "name": "stdout",
          "output_type": "stream",
          "text": [
            " Loss: 0.009318787313532084 Acc: 1.0\n"
          ]
        },
        {
          "name": "stderr",
          "output_type": "stream",
          "text": [
            "\r 56%|█████▌    | 14/25 [00:09<00:07,  1.45it/s]"
          ]
        },
        {
          "name": "stdout",
          "output_type": "stream",
          "text": [
            " Loss: 0.007695840373344254 Acc: 1.0\n"
          ]
        },
        {
          "name": "stderr",
          "output_type": "stream",
          "text": [
            "\r 60%|██████    | 15/25 [00:10<00:06,  1.46it/s]"
          ]
        },
        {
          "name": "stdout",
          "output_type": "stream",
          "text": [
            " Loss: 0.006325700356683228 Acc: 1.0\n"
          ]
        },
        {
          "name": "stderr",
          "output_type": "stream",
          "text": [
            "\r 64%|██████▍   | 16/25 [00:11<00:06,  1.46it/s]"
          ]
        },
        {
          "name": "stdout",
          "output_type": "stream",
          "text": [
            " Loss: 0.005584160462603904 Acc: 1.0\n"
          ]
        },
        {
          "name": "stderr",
          "output_type": "stream",
          "text": [
            "\r 68%|██████▊   | 17/25 [00:11<00:05,  1.46it/s]"
          ]
        },
        {
          "name": "stdout",
          "output_type": "stream",
          "text": [
            " Loss: 0.00475780093256617 Acc: 1.0\n"
          ]
        },
        {
          "name": "stderr",
          "output_type": "stream",
          "text": [
            "\r 72%|███████▏  | 18/25 [00:13<00:06,  1.16it/s]"
          ]
        },
        {
          "name": "stdout",
          "output_type": "stream",
          "text": [
            " Loss: 0.004019654872536194 Acc: 1.0\n"
          ]
        },
        {
          "name": "stderr",
          "output_type": "stream",
          "text": [
            "\r 76%|███████▌  | 19/25 [00:13<00:04,  1.23it/s]"
          ]
        },
        {
          "name": "stdout",
          "output_type": "stream",
          "text": [
            " Loss: 0.003622965141403256 Acc: 1.0\n"
          ]
        },
        {
          "name": "stderr",
          "output_type": "stream",
          "text": [
            "\r 80%|████████  | 20/25 [00:14<00:03,  1.28it/s]"
          ]
        },
        {
          "name": "stdout",
          "output_type": "stream",
          "text": [
            " Loss: 0.003129317716229707 Acc: 1.0\n"
          ]
        },
        {
          "name": "stderr",
          "output_type": "stream",
          "text": [
            "\r 84%|████████▍ | 21/25 [00:15<00:03,  1.33it/s]"
          ]
        },
        {
          "name": "stdout",
          "output_type": "stream",
          "text": [
            " Loss: 0.0032078594995255116 Acc: 1.0\n"
          ]
        },
        {
          "name": "stderr",
          "output_type": "stream",
          "text": [
            "\r 88%|████████▊ | 22/25 [00:15<00:02,  1.36it/s]"
          ]
        },
        {
          "name": "stdout",
          "output_type": "stream",
          "text": [
            " Loss: 0.002513822626497131 Acc: 1.0\n"
          ]
        },
        {
          "name": "stderr",
          "output_type": "stream",
          "text": [
            "\r 92%|█████████▏| 23/25 [00:16<00:01,  1.39it/s]"
          ]
        },
        {
          "name": "stdout",
          "output_type": "stream",
          "text": [
            " Loss: 0.0023493245698773535 Acc: 1.0\n"
          ]
        },
        {
          "name": "stderr",
          "output_type": "stream",
          "text": [
            "\r 96%|█████████▌| 24/25 [00:17<00:00,  1.40it/s]"
          ]
        },
        {
          "name": "stdout",
          "output_type": "stream",
          "text": [
            " Loss: 0.002096698908644612 Acc: 1.0\n"
          ]
        },
        {
          "name": "stderr",
          "output_type": "stream",
          "text": [
            "100%|██████████| 25/25 [00:18<00:00,  1.38it/s]"
          ]
        },
        {
          "name": "stdout",
          "output_type": "stream",
          "text": [
            " Loss: 0.001953240600414574 Acc: 1.0\n",
            " Test acc: 0.8596491228070176\n",
            "F1 0.8408135164641181\n",
            "Recall 0.8669330669330669\n",
            "Precision 0.8429769304769305\n"
          ]
        },
        {
          "name": "stderr",
          "output_type": "stream",
          "text": [
            "\n"
          ]
        },
        {
          "data": {
            "image/png": "[encoded data removed]",
            "text/plain": [
              "<Figure size 432x432 with 1 Axes>"
            ]
          },
          "metadata": {},
          "output_type": "display_data"
        }
      ],
      "source": [
        "neural_training(CNNmodel(), \"CNN_mfcc\", train_dataloader_mfcc, test_dataloader_mfcc, epochs = 25)"
      ]
    },
    {
      "cell_type": "markdown",
      "metadata": {
        "id": "kRYGrWmXUfAc"
      },
      "source": [
        "### Random Forest (Own model)"
      ]
    },
    {
      "cell_type": "code",
      "execution_count": null,
      "metadata": {
        "colab": {
          "base_uri": "https://localhost:8080/",
          "height": 464
        },
        "id": "q61LbPjk1Gyy",
        "outputId": "b08341de-b705-4bc2-8fc9-0495649515c6"
      },
      "outputs": [
        {
          "name": "stdout",
          "output_type": "stream",
          "text": [
            "Acc 0.9473684210526315\n",
            "F1 0.952917873372419\n",
            "Recall 0.9533244533244535\n",
            "Precision 0.9577922077922079\n"
          ]
        },
        {
          "data": {
            "image/png": "[encoded data removed]",
            "text/plain": [
              "<Figure size 432x432 with 1 Axes>"
            ]
          },
          "metadata": {},
          "output_type": "display_data"
        }
      ],
      "source": [
        "model = RandomForestClassifier(n_estimators=100)\n",
        "\n",
        "accuracy, model, ground, predict = classifier(traindata_mfcc_30, testdata_mfcc_30, model)\n",
        "print(\"Acc\", accuracy)\n",
        "print(\"F1\", f1_score(ground, predict, average = \"macro\"))\n",
        "print(\"Recall\", recall_score(ground, predict, average = \"macro\"))\n",
        "print(\"Precision\", precision_score(ground, predict, average = \"macro\"))\n",
        "\n",
        "cm  = confusion_matrix(ground, predict, labels= model.classes_)\n",
        "fig, ax = plot_confusion_matrix(conf_mat=cm, figsize=(6, 6), cmap=plt.cm.Greens)\n",
        "plt.xlabel('Predictions', fontsize=16)\n",
        "plt.ylabel('Actuals', fontsize=16)\n",
        "#plt.title('Confusion Matrix', fontsize=18)\n",
        "plt.imshow(cm)\n",
        "plt.savefig('RF_ConfusionMatrix.pdf')"
      ]
    },
    {
      "cell_type": "markdown",
      "source": [
        "## Results"
      ],
      "metadata": {
        "id": "rwv1AS7go9Ck"
      }
    },
    {
      "cell_type": "markdown",
      "source": [
        "|             | KNN         | CNN        | Random Forest |\n",
        "| ----------- | ----------- |----------- | -----------   |\n",
        "| Accuracy    | 0.947       | 0.860      | 0.947         |\n",
        "| F1          | 0.946       | 0.841      | 0.953         |\n",
        "| Recall      | 0.952       | 0.867      | 0.953         |\n",
        "| Precision   | 0.947        | 0.843      | 0.958         |"
      ],
      "metadata": {
        "id": "oljLqd87pGPG"
      }
    },
    {
      "cell_type": "markdown",
      "source": [
        "The result suggest that the new implemented model of a Random Forest Classifier beat Gong et al. algorithms of KNN and CNN. Even though the KNN in this case got the same accuracy, the Gong et al.s KNN got a worse score (92.4% accuracy) than my KNN at (94.7%). Furthermore, the RF was better overall with a higher F1 score, Recall and Precision. "
      ],
      "metadata": {
        "id": "9ycnX-QTriQD"
      }
    },
    {
      "cell_type": "markdown",
      "source": [
        "## Discussion and Limitations"
      ],
      "metadata": {
        "id": "16c-YN2Kt2zn"
      }
    },
    {
      "cell_type": "markdown",
      "source": [
        "In this project, the author showed that the classification of chinese instruments can be improved using 30 bands of MFCCs. During the projects explorative phase, different feature extraction methods were choosen but with much worse accuracy in the end. Therefore, the author only provided the MFCC classification which the authors from the original paper also provided. However, there are some quite important limitations to this project. Firstly, the dataset which has been used is quite small which could indicate that the model is not that greeat at generalize to new data of other songs. The testdata in itself are good but it only accounts for 5 audio files which is very small for machine learning standard. Secondly, if the dataset was larger one the deep learning approach could have been more suited but that remains unclear. In the light of more research that question may be answered. One further acknowledgement is in what aspect this project could impact the music informatics space. The conclusion to this is that because of the small dataset the contribution is quite small. For further research one could aim to make a model which classifies audio with multiple instruments or a model which can classify all known instruments that exists both in western music, eastern and the rest of the world. Of course an ambitious feat but nonetheless important for the music informatic research space to extend wider to new grounds."
      ],
      "metadata": {
        "id": "3nIWrTZw4cno"
      }
    },
    {
      "cell_type": "code",
      "source": [],
      "metadata": {
        "id": "NuGXnLtl6giY"
      },
      "execution_count": null,
      "outputs": []
    }
  ],
  "metadata": {
    "colab": {
      "provenance": [],
      "toc_visible": true
    },
    "gpuClass": "standard",
    "kernelspec": {
      "display_name": "Python 3",
      "name": "python3"
    },
    "language_info": {
      "name": "python"
    }
  },
  "nbformat": 4,
  "nbformat_minor": 0
}